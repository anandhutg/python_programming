{
 "cells": [
  {
   "cell_type": "code",
   "execution_count": 1,
   "id": "c941ca04",
   "metadata": {},
   "outputs": [
    {
     "data": {
      "text/plain": [
       "{1, 2, 3}"
      ]
     },
     "execution_count": 1,
     "metadata": {},
     "output_type": "execute_result"
    }
   ],
   "source": [
    "s1={1,1,2,3}\n",
    "s1"
   ]
  },
  {
   "cell_type": "code",
   "execution_count": 2,
   "id": "7eb2db92",
   "metadata": {},
   "outputs": [
    {
     "data": {
      "text/plain": [
       "{(4, 5, 6), 1, 2, 3}"
      ]
     },
     "execution_count": 2,
     "metadata": {},
     "output_type": "execute_result"
    }
   ],
   "source": [
    "s2={1,2,3,(4,5,6)}\n",
    "s2"
   ]
  },
  {
   "cell_type": "code",
   "execution_count": 4,
   "id": "b4063521",
   "metadata": {},
   "outputs": [],
   "source": [
    "# s3={1,2,3,[4,5,6]} set cannot have mutable items"
   ]
  },
  {
   "cell_type": "code",
   "execution_count": 10,
   "id": "3dfc2645",
   "metadata": {},
   "outputs": [
    {
     "name": "stdout",
     "output_type": "stream",
     "text": [
      "{1, 2, 3, 4}\n",
      "[1, 2, 3]\n"
     ]
    }
   ],
   "source": [
    "s3=set([1,2,3,4])\n",
    "print(s3)\n",
    "l1=list({1,2,3})\n",
    "print(l1)"
   ]
  },
  {
   "cell_type": "code",
   "execution_count": 11,
   "id": "1dc21e5c",
   "metadata": {},
   "outputs": [],
   "source": [
    "s4={11,22,33,44,55}\n",
    "s4.add(77)"
   ]
  },
  {
   "cell_type": "code",
   "execution_count": 15,
   "id": "c24d84e9",
   "metadata": {},
   "outputs": [],
   "source": [
    "s4.update([88,77,11],{99}) #add list or a set"
   ]
  },
  {
   "cell_type": "code",
   "execution_count": 17,
   "id": "4ce6965e",
   "metadata": {},
   "outputs": [
    {
     "data": {
      "text/plain": [
       "{11, 22, 33, 44, 55, 77, 88}"
      ]
     },
     "execution_count": 17,
     "metadata": {},
     "output_type": "execute_result"
    }
   ],
   "source": [
    "s4.remove(99)\n",
    "s4"
   ]
  },
  {
   "cell_type": "code",
   "execution_count": null,
   "id": "637179d3",
   "metadata": {},
   "outputs": [],
   "source": []
  }
 ],
 "metadata": {
  "kernelspec": {
   "display_name": "Python 3 (ipykernel)",
   "language": "python",
   "name": "python3"
  },
  "language_info": {
   "codemirror_mode": {
    "name": "ipython",
    "version": 3
   },
   "file_extension": ".py",
   "mimetype": "text/x-python",
   "name": "python",
   "nbconvert_exporter": "python",
   "pygments_lexer": "ipython3",
   "version": "3.11.5"
  }
 },
 "nbformat": 4,
 "nbformat_minor": 5
}
