{
 "cells": [
  {
   "cell_type": "code",
   "execution_count": 1,
   "id": "174fd2d8",
   "metadata": {},
   "outputs": [],
   "source": [
    "class myBird:\n",
    "    def __init__(self):\n",
    "        print(\"MyBird class constructor is executing\")\n",
    "    def whatType(self):\n",
    "        print(\"I am a Bird\")\n",
    "    def canSwim(self):\n",
    "        print(\"I can swim\")"
   ]
  },
  {
   "cell_type": "code",
   "execution_count": 2,
   "id": "a8aec083",
   "metadata": {},
   "outputs": [],
   "source": [
    "#myPenguin class inheriting the attributes from the myBird class\n",
    "class myPenguin(myBird):\n",
    "    def __init__(self):\n",
    "        #call super() function\n",
    "        super().__init__()\n",
    "        print(\"myPenguin class constructor is executing..\")\n",
    "    def whoisThis(self):\n",
    "        print(\"I am Penguin...\")\n",
    "    def canRun(self):\n",
    "        print(\"I can run faster...\")"
   ]
  },
  {
   "cell_type": "code",
   "execution_count": 3,
   "id": "3a8d5aca",
   "metadata": {},
   "outputs": [
    {
     "name": "stdout",
     "output_type": "stream",
     "text": [
      "MyBird class constructor is executing\n",
      "myPenguin class constructor is executing..\n",
      "I am a Bird\n",
      "I am Penguin...\n",
      "I can swim\n",
      "I can run faster...\n"
     ]
    }
   ],
   "source": [
    "#Accesing the child class's attributes(Inheritance)\n",
    "pg1 = myPenguin()\n",
    "pg1.whatType()\n",
    "pg1.whoisThis()\n",
    "pg1.canSwim()\n",
    "pg1.canRun()"
   ]
  },
  {
   "cell_type": "code",
   "execution_count": 11,
   "id": "6fb9addd",
   "metadata": {},
   "outputs": [],
   "source": [
    "#Polymorphism\n",
    "class myParrot:\n",
    "    def canFly(self):\n",
    "        print(\"Parrot can fly\")\n",
    "    def canSwim(self):\n",
    "        print(\"Parrot can't swim\")\n",
    "    "
   ]
  },
  {
   "cell_type": "code",
   "execution_count": 12,
   "id": "d9eb4712",
   "metadata": {},
   "outputs": [],
   "source": [
    "class myPenguin:\n",
    "    def canFly(self):\n",
    "        print(\"Parrot can't fly\")\n",
    "    def canSwim(self):\n",
    "        print(\"Penguin can swim\")"
   ]
  },
  {
   "cell_type": "code",
   "execution_count": 14,
   "id": "7830bdc6",
   "metadata": {},
   "outputs": [
    {
     "name": "stdout",
     "output_type": "stream",
     "text": [
      "Parrot can fly\n",
      "Parrot can't swim\n",
      "\n",
      "Parrot can't fly\n",
      "Penguin can swim\n"
     ]
    }
   ],
   "source": [
    "#common interface\n",
    "def flying_bird_test(bird):\n",
    "    bird.canFly()\n",
    "    bird.canSwim()\n",
    "#Instance objects\n",
    "parrot=myParrot()\n",
    "penguin=myPenguin()\n",
    "#Passing the object\n",
    "flying_bird_test(parrot)\n",
    "print()\n",
    "flying_bird_test(penguin)"
   ]
  },
  {
   "cell_type": "code",
   "execution_count": null,
   "id": "80795052",
   "metadata": {},
   "outputs": [],
   "source": []
  }
 ],
 "metadata": {
  "kernelspec": {
   "display_name": "Python 3 (ipykernel)",
   "language": "python",
   "name": "python3"
  },
  "language_info": {
   "codemirror_mode": {
    "name": "ipython",
    "version": 3
   },
   "file_extension": ".py",
   "mimetype": "text/x-python",
   "name": "python",
   "nbconvert_exporter": "python",
   "pygments_lexer": "ipython3",
   "version": "3.11.5"
  }
 },
 "nbformat": 4,
 "nbformat_minor": 5
}
