{
 "cells": [
  {
   "cell_type": "code",
   "execution_count": 1,
   "id": "3096aa00",
   "metadata": {},
   "outputs": [],
   "source": [
    "tuple1=()"
   ]
  },
  {
   "cell_type": "code",
   "execution_count": 2,
   "id": "c97a3671",
   "metadata": {},
   "outputs": [
    {
     "name": "stdout",
     "output_type": "stream",
     "text": [
      "()\n"
     ]
    }
   ],
   "source": [
    "print(tuple1)"
   ]
  },
  {
   "cell_type": "code",
   "execution_count": 4,
   "id": "04ebbdaa",
   "metadata": {},
   "outputs": [
    {
     "name": "stdout",
     "output_type": "stream",
     "text": [
      "(1, 2, 'hello', 20.0)\n"
     ]
    }
   ],
   "source": [
    "tuple2 =(1,2,'hello',20.00)\n",
    "print(tuple2)"
   ]
  },
  {
   "cell_type": "code",
   "execution_count": 7,
   "id": "1d93555b",
   "metadata": {},
   "outputs": [],
   "source": [
    "a,b,c,d = tuple2"
   ]
  },
  {
   "cell_type": "code",
   "execution_count": 8,
   "id": "1298febb",
   "metadata": {},
   "outputs": [
    {
     "data": {
      "text/plain": [
       "1"
      ]
     },
     "execution_count": 8,
     "metadata": {},
     "output_type": "execute_result"
    }
   ],
   "source": [
    "a"
   ]
  },
  {
   "cell_type": "code",
   "execution_count": 9,
   "id": "3de30b38",
   "metadata": {},
   "outputs": [
    {
     "data": {
      "text/plain": [
       "20.0"
      ]
     },
     "execution_count": 9,
     "metadata": {},
     "output_type": "execute_result"
    }
   ],
   "source": [
    "d"
   ]
  },
  {
   "cell_type": "code",
   "execution_count": 10,
   "id": "772883bc",
   "metadata": {},
   "outputs": [
    {
     "name": "stdout",
     "output_type": "stream",
     "text": [
      "<class 'tuple'>\n"
     ]
    }
   ],
   "source": [
    "print(type(tuple2))"
   ]
  },
  {
   "cell_type": "code",
   "execution_count": 11,
   "id": "9b2d696d",
   "metadata": {},
   "outputs": [
    {
     "name": "stdout",
     "output_type": "stream",
     "text": [
      "i\n",
      "6\n"
     ]
    }
   ],
   "source": [
    "tuple3 = (\"this\",[1,2,3],(4,5,6))\n",
    "print(tuple3[0][2])\n",
    "print(tuple3[2][2])"
   ]
  },
  {
   "cell_type": "code",
   "execution_count": 23,
   "id": "bad97ebd",
   "metadata": {},
   "outputs": [],
   "source": [
    "t4=('w','e','l','c','o','m','e')"
   ]
  },
  {
   "cell_type": "code",
   "execution_count": 14,
   "id": "53bd36b9",
   "metadata": {},
   "outputs": [
    {
     "data": {
      "text/plain": [
       "('e', 'l')"
      ]
     },
     "execution_count": 14,
     "metadata": {},
     "output_type": "execute_result"
    }
   ],
   "source": [
    "t4[1:3]"
   ]
  },
  {
   "cell_type": "code",
   "execution_count": 15,
   "id": "b29e0140",
   "metadata": {},
   "outputs": [
    {
     "data": {
      "text/plain": [
       "('w', 'e', 'l', 'c')"
      ]
     },
     "execution_count": 15,
     "metadata": {},
     "output_type": "execute_result"
    }
   ],
   "source": [
    "t4[:-3]"
   ]
  },
  {
   "cell_type": "code",
   "execution_count": 16,
   "id": "eeebb0d7",
   "metadata": {},
   "outputs": [
    {
     "data": {
      "text/plain": [
       "('c', 'o', 'm', 'e')"
      ]
     },
     "execution_count": 16,
     "metadata": {},
     "output_type": "execute_result"
    }
   ],
   "source": [
    "t4[3:]"
   ]
  },
  {
   "cell_type": "code",
   "execution_count": 17,
   "id": "b63dc7b8",
   "metadata": {},
   "outputs": [
    {
     "data": {
      "text/plain": [
       "('w', 'e', 'l', 'c', 'o', 'm', 'e')"
      ]
     },
     "execution_count": 17,
     "metadata": {},
     "output_type": "execute_result"
    }
   ],
   "source": [
    "t4[:]"
   ]
  },
  {
   "cell_type": "code",
   "execution_count": 19,
   "id": "2afd06b1",
   "metadata": {},
   "outputs": [
    {
     "data": {
      "text/plain": [
       "('w', 'l', 'o', 'e')"
      ]
     },
     "execution_count": 19,
     "metadata": {},
     "output_type": "execute_result"
    }
   ],
   "source": [
    "t4[::2]"
   ]
  },
  {
   "cell_type": "code",
   "execution_count": 20,
   "id": "58ab0307",
   "metadata": {},
   "outputs": [
    {
     "ename": "TypeError",
     "evalue": "'tuple' object does not support item assignment",
     "output_type": "error",
     "traceback": [
      "\u001b[1;31m---------------------------------------------------------------------------\u001b[0m",
      "\u001b[1;31mTypeError\u001b[0m                                 Traceback (most recent call last)",
      "Cell \u001b[1;32mIn[20], line 1\u001b[0m\n\u001b[1;32m----> 1\u001b[0m t4[\u001b[38;5;241m1\u001b[39m]\u001b[38;5;241m=\u001b[39m\u001b[38;5;124m'\u001b[39m\u001b[38;5;124ms\u001b[39m\u001b[38;5;124m'\u001b[39m\n",
      "\u001b[1;31mTypeError\u001b[0m: 'tuple' object does not support item assignment"
     ]
    }
   ],
   "source": [
    "# t4[1]='s' type error"
   ]
  },
  {
   "cell_type": "code",
   "execution_count": 35,
   "id": "c813db36",
   "metadata": {},
   "outputs": [],
   "source": [
    "t4=('w','e','l','c','o','m','e')\n",
    "t5=(' ','b','o','s','s')"
   ]
  },
  {
   "cell_type": "code",
   "execution_count": 27,
   "id": "e88302b7",
   "metadata": {},
   "outputs": [
    {
     "data": {
      "text/plain": [
       "(' ', 'b', 'o', 's', 's')"
      ]
     },
     "execution_count": 27,
     "metadata": {},
     "output_type": "execute_result"
    }
   ],
   "source": [
    "t4"
   ]
  },
  {
   "cell_type": "code",
   "execution_count": 31,
   "id": "20a28919",
   "metadata": {},
   "outputs": [
    {
     "name": "stdout",
     "output_type": "stream",
     "text": [
      "('w', 'e', 'l', 'c', 'o', 'm', 'e', ' ', 'b', 'o', 's', 's')\n"
     ]
    }
   ],
   "source": [
    "print(t4+t5)"
   ]
  },
  {
   "cell_type": "code",
   "execution_count": 37,
   "id": "34f0bdd4",
   "metadata": {},
   "outputs": [],
   "source": [
    "# del t4[0] 'tuple' object doesn't support item deletion"
   ]
  },
  {
   "cell_type": "markdown",
   "id": "38cb783d",
   "metadata": {},
   "source": [
    "t4"
   ]
  },
  {
   "cell_type": "code",
   "execution_count": 38,
   "id": "9491b17b",
   "metadata": {},
   "outputs": [],
   "source": [
    "del t4"
   ]
  },
  {
   "cell_type": "code",
   "execution_count": 40,
   "id": "509e2e32",
   "metadata": {},
   "outputs": [
    {
     "data": {
      "text/plain": [
       "1"
      ]
     },
     "execution_count": 40,
     "metadata": {},
     "output_type": "execute_result"
    }
   ],
   "source": [
    "t4=('w','e','l','c','o','m','e')\n",
    "t4.count('e')\n",
    "t4.index('e')"
   ]
  },
  {
   "cell_type": "code",
   "execution_count": 44,
   "id": "224f2e2d",
   "metadata": {},
   "outputs": [
    {
     "data": {
      "text/plain": [
       "False"
      ]
     },
     "execution_count": 44,
     "metadata": {},
     "output_type": "execute_result"
    }
   ],
   "source": [
    "'c' in t4\n",
    "'g' in t4\n",
    "'c' not in t4"
   ]
  },
  {
   "cell_type": "code",
   "execution_count": 45,
   "id": "51ff225c",
   "metadata": {},
   "outputs": [
    {
     "name": "stdout",
     "output_type": "stream",
     "text": [
      "w\n",
      "e\n",
      "l\n",
      "c\n",
      "o\n",
      "m\n",
      "e\n"
     ]
    }
   ],
   "source": [
    "for i in t4:\n",
    "    print(i)"
   ]
  },
  {
   "cell_type": "code",
   "execution_count": 48,
   "id": "d153d766",
   "metadata": {},
   "outputs": [
    {
     "data": {
      "text/plain": [
       "77"
      ]
     },
     "execution_count": 48,
     "metadata": {},
     "output_type": "execute_result"
    }
   ],
   "source": [
    "t6=(22,33,55,44,77,66,11)\n",
    "max(t6)\n"
   ]
  },
  {
   "cell_type": "code",
   "execution_count": null,
   "id": "11e4f58c",
   "metadata": {},
   "outputs": [],
   "source": [
    "min(t6)\n"
   ]
  },
  {
   "cell_type": "code",
   "execution_count": 49,
   "id": "b7574742",
   "metadata": {},
   "outputs": [
    {
     "data": {
      "text/plain": [
       "[11, 22, 33, 44, 55, 66, 77]"
      ]
     },
     "execution_count": 49,
     "metadata": {},
     "output_type": "execute_result"
    }
   ],
   "source": [
    "sorted(t6)\n"
   ]
  },
  {
   "cell_type": "code",
   "execution_count": 50,
   "id": "bb14fbe6",
   "metadata": {},
   "outputs": [
    {
     "data": {
      "text/plain": [
       "7"
      ]
     },
     "execution_count": 50,
     "metadata": {},
     "output_type": "execute_result"
    }
   ],
   "source": [
    "len(t6)"
   ]
  },
  {
   "cell_type": "code",
   "execution_count": null,
   "id": "8f0752b0",
   "metadata": {},
   "outputs": [],
   "source": []
  }
 ],
 "metadata": {
  "kernelspec": {
   "display_name": "Python 3 (ipykernel)",
   "language": "python",
   "name": "python3"
  },
  "language_info": {
   "codemirror_mode": {
    "name": "ipython",
    "version": 3
   },
   "file_extension": ".py",
   "mimetype": "text/x-python",
   "name": "python",
   "nbconvert_exporter": "python",
   "pygments_lexer": "ipython3",
   "version": "3.11.5"
  }
 },
 "nbformat": 4,
 "nbformat_minor": 5
}
