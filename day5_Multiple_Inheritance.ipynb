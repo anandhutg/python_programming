{
 "cells": [
  {
   "cell_type": "code",
   "execution_count": 2,
   "id": "90754f3d",
   "metadata": {},
   "outputs": [],
   "source": [
    "# Multiple Inheritance\n",
    "class Base1:\n",
    "    pass\n",
    "class Base2:\n",
    "    pass\n",
    "class MultiDerived(Base1,Base2):\n",
    "    pass"
   ]
  },
  {
   "cell_type": "code",
   "execution_count": 3,
   "id": "4da5edec",
   "metadata": {},
   "outputs": [],
   "source": [
    "class Base1:\n",
    "    def func1(self):\n",
    "        print(\"func1 is executing\")\n",
    "class Base2:\n",
    "    def func2(self):\n",
    "        print(\"func2 is executing\")\n",
    "class Base3:\n",
    "    def func3(self):\n",
    "        print(\"func3 is executing\")\n",
    "class multiDerived(Base1,Base2,Base3):\n",
    "    def funcMultiDerived(self):\n",
    "        print(\"Funtion MultiDErived is executing\")"
   ]
  },
  {
   "cell_type": "code",
   "execution_count": 6,
   "id": "797156f7",
   "metadata": {},
   "outputs": [
    {
     "name": "stdout",
     "output_type": "stream",
     "text": [
      "func1 is executing\n",
      "func2 is executing\n",
      "func3 is executing\n",
      "Funtion MultiDErived is executing\n"
     ]
    }
   ],
   "source": [
    "md1 = multiDerived()\n",
    "md1.func1()\n",
    "md1.func2()\n",
    "md1.func3()\n",
    "md1.funcMultiDerived()"
   ]
  },
  {
   "cell_type": "code",
   "execution_count": null,
   "id": "608de79f",
   "metadata": {},
   "outputs": [],
   "source": []
  }
 ],
 "metadata": {
  "kernelspec": {
   "display_name": "Python 3 (ipykernel)",
   "language": "python",
   "name": "python3"
  },
  "language_info": {
   "codemirror_mode": {
    "name": "ipython",
    "version": 3
   },
   "file_extension": ".py",
   "mimetype": "text/x-python",
   "name": "python",
   "nbconvert_exporter": "python",
   "pygments_lexer": "ipython3",
   "version": "3.11.5"
  }
 },
 "nbformat": 4,
 "nbformat_minor": 5
}
