{
 "cells": [
  {
   "cell_type": "code",
   "execution_count": 4,
   "id": "a8eaec87",
   "metadata": {},
   "outputs": [
    {
     "name": "stdout",
     "output_type": "stream",
     "text": [
      "hello\n",
      "Welcome to the\n",
      "world of\n",
      "Programming\n",
      "\n"
     ]
    }
   ],
   "source": [
    "s1=\"hello\"\n",
    "print(s1)\n",
    "s2=\"\"\"Welcome to the\n",
    "world of\n",
    "Programming\n",
    "\"\"\"\n",
    "print(s2)"
   ]
  },
  {
   "cell_type": "code",
   "execution_count": 7,
   "id": "bbf80665",
   "metadata": {},
   "outputs": [
    {
     "name": "stdout",
     "output_type": "stream",
     "text": [
      "anguag\n"
     ]
    }
   ],
   "source": [
    "s3=\"language\"\n",
    "print(s3[1:-1])"
   ]
  },
  {
   "cell_type": "code",
   "execution_count": 8,
   "id": "67303850",
   "metadata": {},
   "outputs": [
    {
     "name": "stdout",
     "output_type": "stream",
     "text": [
      "egaugnal\n"
     ]
    }
   ],
   "source": [
    "print(s3[::-1])"
   ]
  },
  {
   "cell_type": "code",
   "execution_count": 10,
   "id": "09f99937",
   "metadata": {},
   "outputs": [
    {
     "ename": "TypeError",
     "evalue": "'str' object does not support item assignment",
     "output_type": "error",
     "traceback": [
      "\u001b[1;31m---------------------------------------------------------------------------\u001b[0m",
      "\u001b[1;31mTypeError\u001b[0m                                 Traceback (most recent call last)",
      "Cell \u001b[1;32mIn[10], line 1\u001b[0m\n\u001b[1;32m----> 1\u001b[0m s3[\u001b[38;5;241m0\u001b[39m]\u001b[38;5;241m=\u001b[39m\u001b[38;5;124m\"\u001b[39m\u001b[38;5;124me\u001b[39m\u001b[38;5;124m\"\u001b[39m\n",
      "\u001b[1;31mTypeError\u001b[0m: 'str' object does not support item assignment"
     ]
    }
   ],
   "source": [
    "#s3[0]=\"e\" 'str' object does not support item assignment"
   ]
  },
  {
   "cell_type": "code",
   "execution_count": 11,
   "id": "e7b85103",
   "metadata": {},
   "outputs": [
    {
     "data": {
      "text/plain": [
       "'helloWelcome to the\\nworld of\\nProgramming\\n'"
      ]
     },
     "execution_count": 11,
     "metadata": {},
     "output_type": "execute_result"
    }
   ],
   "source": [
    "s1+s2"
   ]
  },
  {
   "cell_type": "code",
   "execution_count": 12,
   "id": "c9576b39",
   "metadata": {},
   "outputs": [
    {
     "name": "stdout",
     "output_type": "stream",
     "text": [
      "2\n"
     ]
    }
   ],
   "source": [
    "lc=0\n",
    "for l in s3:\n",
    "    if l== 'g':\n",
    "        lc=lc+1\n",
    "print(lc)"
   ]
  },
  {
   "cell_type": "code",
   "execution_count": 13,
   "id": "b1881265",
   "metadata": {},
   "outputs": [
    {
     "name": "stdout",
     "output_type": "stream",
     "text": [
      "[(0, 'u'), (1, 'n'), (2, 'i'), (3, 'v'), (4, 'e'), (5, 'r'), (6, 's'), (7, 'i'), (8, 't'), (9, 'y')]\n"
     ]
    }
   ],
   "source": [
    "mystr='university'\n",
    "#using enumerate()\n",
    "mystr_en=list(enumerate(mystr))\n",
    "print(mystr_en)"
   ]
  },
  {
   "cell_type": "code",
   "execution_count": 14,
   "id": "4c0238ff",
   "metadata": {},
   "outputs": [
    {
     "name": "stdout",
     "output_type": "stream",
     "text": [
      "Rahul said \"where are you\" \n"
     ]
    }
   ],
   "source": [
    "print(\"Rahul said \\\"where are you\\\" \")"
   ]
  },
  {
   "cell_type": "code",
   "execution_count": 15,
   "id": "fdf44532",
   "metadata": {},
   "outputs": [
    {
     "name": "stdout",
     "output_type": "stream",
     "text": [
      "\"Rahul said \"where are you\" \"\n"
     ]
    }
   ],
   "source": [
    "print('''\"Rahul said \\\"where are you\\\" \"''')"
   ]
  },
  {
   "cell_type": "code",
   "execution_count": 16,
   "id": "3c1278c3",
   "metadata": {},
   "outputs": [
    {
     "name": "stdout",
     "output_type": "stream",
     "text": [
      "ABC written in hex is ABC\n"
     ]
    }
   ],
   "source": [
    "print(\"ABC written in hex is \\x41\\x42\\x43\")"
   ]
  },
  {
   "cell_type": "code",
   "execution_count": 23,
   "id": "d02843e8",
   "metadata": {},
   "outputs": [
    {
     "name": "stdout",
     "output_type": "stream",
     "text": [
      "happy be happy!\n",
      "be happy! be happy\n",
      "happy be happy! happy\n"
     ]
    }
   ],
   "source": [
    "#using .format()\n",
    "order1=\"{} {} {}\".format('happy','be','happy!')\n",
    "print(order1)\n",
    "order2=\"{1} {2} {1} {0}\".format('happy','be','happy!')\n",
    "print(order2)\n",
    "order2=\"{h} {b} {hh} {h}\".format(h='happy',b='be',hh='happy!')\n",
    "print(order2)"
   ]
  },
  {
   "cell_type": "code",
   "execution_count": 24,
   "id": "b425965e",
   "metadata": {},
   "outputs": [
    {
     "name": "stdout",
     "output_type": "stream",
     "text": [
      "Binary of 7 is 111\n"
     ]
    }
   ],
   "source": [
    "print(\"Binary of {0} is {0:b}\".format(7))"
   ]
  },
  {
   "cell_type": "code",
   "execution_count": 25,
   "id": "499ae030",
   "metadata": {},
   "outputs": [
    {
     "name": "stdout",
     "output_type": "stream",
     "text": [
      "Exponent of 9.08 is 9.080000e+00\n"
     ]
    }
   ],
   "source": [
    "print(\"Exponent of {0} is {0:e}\".format(9.08))"
   ]
  },
  {
   "cell_type": "code",
   "execution_count": 27,
   "id": "dce6e00a",
   "metadata": {},
   "outputs": [
    {
     "name": "stdout",
     "output_type": "stream",
     "text": [
      "fraction of 1/3 is 0.333\n"
     ]
    }
   ],
   "source": [
    "print(\"fraction of 1/3 is {0:.3f}\".format(1/3))"
   ]
  },
  {
   "cell_type": "code",
   "execution_count": 29,
   "id": "a30d81d9",
   "metadata": {},
   "outputs": [
    {
     "name": "stdout",
     "output_type": "stream",
     "text": [
      "LANGUAGE\n",
      "2\n",
      "-1\n",
      "banguage\n",
      "language\n"
     ]
    }
   ],
   "source": [
    "print(\"language\".upper())\n",
    "print(\"language\".find('n'))\n",
    "print(\"language\".find('Lan'))\n",
    "print(\"language\".replace('lan','ban'))\n",
    "print(\"language\".replace('Lan','ban'))"
   ]
  },
  {
   "cell_type": "code",
   "execution_count": null,
   "id": "b798edb3",
   "metadata": {},
   "outputs": [],
   "source": []
  }
 ],
 "metadata": {
  "kernelspec": {
   "display_name": "Python 3 (ipykernel)",
   "language": "python",
   "name": "python3"
  },
  "language_info": {
   "codemirror_mode": {
    "name": "ipython",
    "version": 3
   },
   "file_extension": ".py",
   "mimetype": "text/x-python",
   "name": "python",
   "nbconvert_exporter": "python",
   "pygments_lexer": "ipython3",
   "version": "3.11.5"
  }
 },
 "nbformat": 4,
 "nbformat_minor": 5
}
