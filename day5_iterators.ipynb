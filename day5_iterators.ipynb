{
 "cells": [
  {
   "cell_type": "code",
   "execution_count": 7,
   "id": "15e5ae2a",
   "metadata": {},
   "outputs": [
    {
     "name": "stdout",
     "output_type": "stream",
     "text": [
      "44\n",
      "77\n",
      "11\n",
      "33\n"
     ]
    }
   ],
   "source": [
    "l=[44,77,11,33]\n",
    "it=iter(l)\n",
    "print(next(it))\n",
    "print(next(it))\n",
    "print(it.__next__())\n",
    "print(it.__next__())\n",
    "#print(next(it))"
   ]
  },
  {
   "cell_type": "code",
   "execution_count": 16,
   "id": "2f1457a1",
   "metadata": {},
   "outputs": [
    {
     "name": "stdout",
     "output_type": "stream",
     "text": [
      "Class to implement an iterator\n",
      "    of powers of two\n",
      "1\n",
      "2\n",
      "4\n",
      "8\n",
      "16\n"
     ]
    },
    {
     "ename": "StopIteration",
     "evalue": "",
     "output_type": "error",
     "traceback": [
      "\u001b[1;31m---------------------------------------------------------------------------\u001b[0m",
      "\u001b[1;31mStopIteration\u001b[0m                             Traceback (most recent call last)",
      "Cell \u001b[1;32mIn[16], line 25\u001b[0m\n\u001b[0;32m     23\u001b[0m \u001b[38;5;28mprint\u001b[39m(\u001b[38;5;28mnext\u001b[39m(i))\n\u001b[0;32m     24\u001b[0m \u001b[38;5;28mprint\u001b[39m(\u001b[38;5;28mnext\u001b[39m(i))\n\u001b[1;32m---> 25\u001b[0m \u001b[38;5;28mprint\u001b[39m(\u001b[38;5;28mnext\u001b[39m(i))\n",
      "Cell \u001b[1;32mIn[16], line 16\u001b[0m, in \u001b[0;36mPow_of_Two.__next__\u001b[1;34m(self)\u001b[0m\n\u001b[0;32m     14\u001b[0m     \u001b[38;5;28;01mreturn\u001b[39;00m result\n\u001b[0;32m     15\u001b[0m \u001b[38;5;28;01melse\u001b[39;00m:\n\u001b[1;32m---> 16\u001b[0m     \u001b[38;5;28;01mraise\u001b[39;00m \u001b[38;5;167;01mStopIteration\u001b[39;00m\n",
      "\u001b[1;31mStopIteration\u001b[0m: "
     ]
    }
   ],
   "source": [
    "#creating a custom iterrator\n",
    "class Pow_of_Two:\n",
    "    '''Class to implement an iterator\n",
    "    of powers of two'''\n",
    "    def __init__(self,max):\n",
    "        self.max=max\n",
    "    def __iter__(self):\n",
    "        self.n=0\n",
    "        return self\n",
    "    def __next__(self):\n",
    "        if self.n<=self.max:\n",
    "            result=2**self.n\n",
    "            self.n+=1\n",
    "            return result\n",
    "        else:\n",
    "            raise StopIteration\n",
    "print(Pow_of_Two.__doc__)\n",
    "a=Pow_of_Two(4)\n",
    "i=iter(a)\n",
    "print(next(i))\n",
    "print(next(i))\n",
    "print(next(i))\n",
    "print(next(i))\n",
    "print(next(i))\n",
    "# print(next(i)) Here self.max=5"
   ]
  },
  {
   "cell_type": "code",
   "execution_count": 19,
   "id": "42b10019",
   "metadata": {},
   "outputs": [
    {
     "name": "stdout",
     "output_type": "stream",
     "text": [
      "1\n",
      "3\n",
      "5\n",
      "7\n"
     ]
    }
   ],
   "source": [
    "#Infinite custom iterator\n",
    "class Infinite_Iter:\n",
    "    \"\"\"Infinite iterator to return all\n",
    "    odd numbers\"\"\"\n",
    "    def __iter__(self):\n",
    "        self.num=1\n",
    "        return self\n",
    "    def __next__(self):\n",
    "        num=self.num\n",
    "        self.num+=2\n",
    "        return num\n",
    "i=Infinite_Iter()\n",
    "a=iter(i)\n",
    "print(next(a))\n",
    "print(next(a))\n",
    "print(next(a))\n",
    "print(next(a))"
   ]
  },
  {
   "cell_type": "code",
   "execution_count": 20,
   "id": "62ffe217",
   "metadata": {},
   "outputs": [
    {
     "name": "stdout",
     "output_type": "stream",
     "text": [
      "1\n",
      "2\n",
      "3\n",
      "4\n",
      "5\n",
      "Printing Completed\n"
     ]
    }
   ],
   "source": [
    "l=[1,2,3,4,5]\n",
    "for i in l:\n",
    "    print(i)\n",
    "else:\n",
    "    print(\"Printing Completed\")"
   ]
  },
  {
   "cell_type": "code",
   "execution_count": null,
   "id": "d63986c7",
   "metadata": {},
   "outputs": [],
   "source": []
  }
 ],
 "metadata": {
  "kernelspec": {
   "display_name": "Python 3 (ipykernel)",
   "language": "python",
   "name": "python3"
  },
  "language_info": {
   "codemirror_mode": {
    "name": "ipython",
    "version": 3
   },
   "file_extension": ".py",
   "mimetype": "text/x-python",
   "name": "python",
   "nbconvert_exporter": "python",
   "pygments_lexer": "ipython3",
   "version": "3.11.5"
  }
 },
 "nbformat": 4,
 "nbformat_minor": 5
}
