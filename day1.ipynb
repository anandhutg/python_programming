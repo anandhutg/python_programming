{
 "cells": [
  {
   "cell_type": "code",
   "execution_count": 1,
   "id": "a1098045",
   "metadata": {},
   "outputs": [
    {
     "name": "stdout",
     "output_type": "stream",
     "text": [
      "So the sum of 500 and 600 is 1100\n"
     ]
    }
   ],
   "source": [
    "a=500\n",
    "b=600\n",
    "c=a+b\n",
    "print(\"So the sum of {} and {} is {}\".format(a,b,c))"
   ]
  },
  {
   "cell_type": "code",
   "execution_count": 2,
   "id": "35b12f82",
   "metadata": {},
   "outputs": [
    {
     "name": "stdout",
     "output_type": "stream",
     "text": [
      "apple\n"
     ]
    }
   ],
   "source": [
    "a=\"apple\"\n",
    "print(a)"
   ]
  },
  {
   "cell_type": "code",
   "execution_count": 3,
   "id": "cd1fe825",
   "metadata": {},
   "outputs": [],
   "source": [
    "class myComplexNumber:\n",
    "    def __init__(self,real = 0,imag =0):\n",
    "        print(\"MyComplexNumber constrictor executing...\")\n",
    "        self.real_part = real\n",
    "        self.img_part = imag\n",
    "    def displayComplex(self):\n",
    "        print(\"{0} + {1}j\".format(self.real_part,self.img_part))"
   ]
  },
  {
   "cell_type": "code",
   "execution_count": 4,
   "id": "b025ffb9",
   "metadata": {},
   "outputs": [
    {
     "name": "stdout",
     "output_type": "stream",
     "text": [
      "MyComplexNumber constrictor executing...\n",
      "40 + 50j\n"
     ]
    }
   ],
   "source": [
    "cmplx1 = myComplexNumber(40,50)\n",
    "cmplx1.displayComplex()"
   ]
  },
  {
   "cell_type": "code",
   "execution_count": 5,
   "id": "63798a69",
   "metadata": {},
   "outputs": [
    {
     "name": "stdout",
     "output_type": "stream",
     "text": [
      "MyComplexNumber constrictor executing...\n",
      "(60, 70, 80)\n"
     ]
    }
   ],
   "source": [
    "cmplx2 = myComplexNumber(60,70) \n",
    "cmplx2.new_attribute =80\n",
    "print((cmplx2.real_part,cmplx2.img_part,cmplx2.new_attribute))"
   ]
  },
  {
   "cell_type": "code",
   "execution_count": 7,
   "id": "1579ffdb",
   "metadata": {},
   "outputs": [
    {
     "name": "stdout",
     "output_type": "stream",
     "text": [
      "60 + 70j\n"
     ]
    }
   ],
   "source": [
    "cmplx2.displayComplex()"
   ]
  },
  {
   "cell_type": "code",
   "execution_count": 8,
   "id": "78b6e1b5",
   "metadata": {},
   "outputs": [
    {
     "data": {
      "text/plain": [
       "60"
      ]
     },
     "execution_count": 8,
     "metadata": {},
     "output_type": "execute_result"
    }
   ],
   "source": [
    "cmplx2.real_part"
   ]
  },
  {
   "cell_type": "code",
   "execution_count": 10,
   "id": "02e24f6e",
   "metadata": {},
   "outputs": [
    {
     "name": "stdout",
     "output_type": "stream",
     "text": [
      "<__main__.myComplexNumber object at 0x00000172F9EE2910>\n"
     ]
    }
   ],
   "source": [
    "print(cmplx1)\n",
    "del cmplx1.real_part"
   ]
  },
  {
   "cell_type": "code",
   "execution_count": 13,
   "id": "07688b85",
   "metadata": {},
   "outputs": [
    {
     "name": "stdout",
     "output_type": "stream",
     "text": [
      "<__main__.myComplexNumber object at 0x00000172F9EE2910>\n"
     ]
    }
   ],
   "source": [
    "print(cmplx1)"
   ]
  },
  {
   "cell_type": "code",
   "execution_count": 15,
   "id": "e0316a02",
   "metadata": {},
   "outputs": [
    {
     "name": "stdout",
     "output_type": "stream",
     "text": [
      "three\n"
     ]
    }
   ],
   "source": [
    "arr=[\"one\",\"two\",\"three\"]\n",
    "print(arr[-1])"
   ]
  },
  {
   "cell_type": "code",
   "execution_count": 16,
   "id": "e961ed4a",
   "metadata": {},
   "outputs": [
    {
     "name": "stdout",
     "output_type": "stream",
     "text": [
      "['one', 'two', 'three', 'four']\n"
     ]
    }
   ],
   "source": [
    "arr.append(\"four\")\n",
    "print(arr)"
   ]
  },
  {
   "cell_type": "code",
   "execution_count": 18,
   "id": "0829dab5",
   "metadata": {},
   "outputs": [
    {
     "name": "stdout",
     "output_type": "stream",
     "text": [
      "['one', 'three', 'four']\n"
     ]
    }
   ],
   "source": [
    "del arr[1]\n",
    "print(arr)"
   ]
  },
  {
   "cell_type": "code",
   "execution_count": 19,
   "id": "208e51d4",
   "metadata": {},
   "outputs": [
    {
     "name": "stdout",
     "output_type": "stream",
     "text": [
      "['one', 'three']\n"
     ]
    }
   ],
   "source": [
    "arr.remove(\"four\")\n",
    "print(arr)"
   ]
  },
  {
   "cell_type": "code",
   "execution_count": 21,
   "id": "6479ad7c",
   "metadata": {},
   "outputs": [
    {
     "name": "stdout",
     "output_type": "stream",
     "text": [
      "['one']\n"
     ]
    }
   ],
   "source": [
    "arr.pop(1)\n",
    "print(arr)"
   ]
  },
  {
   "cell_type": "code",
   "execution_count": 22,
   "id": "0082e92b",
   "metadata": {},
   "outputs": [
    {
     "name": "stdout",
     "output_type": "stream",
     "text": [
      "['one', 'two', 'three']\n",
      "['one', 'two', 'five']\n"
     ]
    }
   ],
   "source": [
    "arr=[\"one\",\"two\",\"three\"]\n",
    "print(arr)\n",
    "arr[-1]=\"five\"\n",
    "print(arr)"
   ]
  },
  {
   "cell_type": "code",
   "execution_count": 25,
   "id": "08df2558",
   "metadata": {},
   "outputs": [
    {
     "name": "stdout",
     "output_type": "stream",
     "text": [
      "[0, 1, 2, 3, 4, 5]\n"
     ]
    }
   ],
   "source": [
    "concat=[0,1,2]\n",
    "concat+=[3,4,5]\n",
    "print(concat)"
   ]
  },
  {
   "cell_type": "code",
   "execution_count": 26,
   "id": "041ab578",
   "metadata": {},
   "outputs": [
    {
     "name": "stdout",
     "output_type": "stream",
     "text": [
      "[0, 1, 2, 3, 4, 5, 0, 1, 2, 3, 4, 5]\n"
     ]
    }
   ],
   "source": [
    "print(concat*2)"
   ]
  },
  {
   "cell_type": "code",
   "execution_count": 31,
   "id": "19fff281",
   "metadata": {},
   "outputs": [
    {
     "name": "stdout",
     "output_type": "stream",
     "text": [
      "[3]\n"
     ]
    }
   ],
   "source": [
    "print(concat[3:4])"
   ]
  },
  {
   "cell_type": "code",
   "execution_count": 42,
   "id": "4894f6c3",
   "metadata": {},
   "outputs": [],
   "source": [
    "a1=[[1,2],[3,4],[5,6],[7,8]]"
   ]
  },
  {
   "cell_type": "code",
   "execution_count": 43,
   "id": "9217e5b4",
   "metadata": {},
   "outputs": [
    {
     "name": "stdout",
     "output_type": "stream",
     "text": [
      "4\n"
     ]
    }
   ],
   "source": [
    "print(a1[1][1])"
   ]
  },
  {
   "cell_type": "code",
   "execution_count": 2,
   "id": "b5a8da48",
   "metadata": {},
   "outputs": [
    {
     "name": "stdout",
     "output_type": "stream",
     "text": [
      "[0, 1, 2]\n"
     ]
    }
   ],
   "source": [
    "concat=[0,1,2]\n",
    "print(concat)"
   ]
  },
  {
   "cell_type": "code",
   "execution_count": null,
   "id": "473809d1",
   "metadata": {},
   "outputs": [],
   "source": []
  }
 ],
 "metadata": {
  "kernelspec": {
   "display_name": "Python 3 (ipykernel)",
   "language": "python",
   "name": "python3"
  },
  "language_info": {
   "codemirror_mode": {
    "name": "ipython",
    "version": 3
   },
   "file_extension": ".py",
   "mimetype": "text/x-python",
   "name": "python",
   "nbconvert_exporter": "python",
   "pygments_lexer": "ipython3",
   "version": "3.11.5"
  }
 },
 "nbformat": 4,
 "nbformat_minor": 5
}
