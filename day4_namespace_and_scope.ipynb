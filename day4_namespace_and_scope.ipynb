{
 "cells": [
  {
   "cell_type": "code",
   "execution_count": 1,
   "id": "b0cfc97d",
   "metadata": {},
   "outputs": [
    {
     "name": "stdout",
     "output_type": "stream",
     "text": [
      "140728802644808\n",
      "140728802644808\n"
     ]
    }
   ],
   "source": [
    "# id() returns the address (in RAM) of some object through the build in function\n",
    "a=2\n",
    "print(id(a))\n",
    "print(id(2))"
   ]
  },
  {
   "cell_type": "code",
   "execution_count": 2,
   "id": "27917a5c",
   "metadata": {},
   "outputs": [
    {
     "name": "stdout",
     "output_type": "stream",
     "text": [
      "140728802644840\n",
      "140728802644840\n"
     ]
    }
   ],
   "source": [
    "a=a+1\n",
    "print(id(a))\n",
    "print(id(3))"
   ]
  },
  {
   "cell_type": "code",
   "execution_count": 10,
   "id": "bcad4f6f",
   "metadata": {},
   "outputs": [
    {
     "name": "stdout",
     "output_type": "stream",
     "text": [
      "30\n",
      "30\n"
     ]
    }
   ],
   "source": [
    "def outer():\n",
    "    global a\n",
    "    a=20\n",
    "    def inner():\n",
    "        global a\n",
    "        a=30\n",
    "        print(a)\n",
    "    inner()\n",
    "outer()\n",
    "print(a)\n"
   ]
  },
  {
   "cell_type": "code",
   "execution_count": null,
   "id": "c85f7ccf",
   "metadata": {},
   "outputs": [],
   "source": []
  }
 ],
 "metadata": {
  "kernelspec": {
   "display_name": "Python 3 (ipykernel)",
   "language": "python",
   "name": "python3"
  },
  "language_info": {
   "codemirror_mode": {
    "name": "ipython",
    "version": 3
   },
   "file_extension": ".py",
   "mimetype": "text/x-python",
   "name": "python",
   "nbconvert_exporter": "python",
   "pygments_lexer": "ipython3",
   "version": "3.11.5"
  }
 },
 "nbformat": 4,
 "nbformat_minor": 5
}
