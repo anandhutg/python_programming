{
 "cells": [
  {
   "cell_type": "code",
   "execution_count": 2,
   "id": "4493a5c3",
   "metadata": {},
   "outputs": [
    {
     "name": "stdout",
     "output_type": "stream",
     "text": [
      "5\n",
      "10\n"
     ]
    }
   ],
   "source": [
    "global a\n",
    "a=5\n",
    "def outer():\n",
    "    a=10\n",
    "    print(a)\n",
    "print(a)\n",
    "outer()"
   ]
  },
  {
   "cell_type": "code",
   "execution_count": 5,
   "id": "1cfce058",
   "metadata": {},
   "outputs": [
    {
     "name": "stdout",
     "output_type": "stream",
     "text": [
      "nonlocal\n",
      "nonlocal\n"
     ]
    }
   ],
   "source": [
    "def outer():\n",
    "    nonlocal x\n",
    "    x=\"local\"\n",
    "    def inner():\n",
    "    \n",
    "        x=\"nonlocal\"\n",
    "        print(x)\n",
    "    inner()\n",
    "    print(x)\n",
    "outer()"
   ]
  },
  {
   "cell_type": "code",
   "execution_count": null,
   "id": "52b98e5d",
   "metadata": {},
   "outputs": [],
   "source": []
  }
 ],
 "metadata": {
  "kernelspec": {
   "display_name": "Python 3 (ipykernel)",
   "language": "python",
   "name": "python3"
  },
  "language_info": {
   "codemirror_mode": {
    "name": "ipython",
    "version": 3
   },
   "file_extension": ".py",
   "mimetype": "text/x-python",
   "name": "python",
   "nbconvert_exporter": "python",
   "pygments_lexer": "ipython3",
   "version": "3.11.5"
  }
 },
 "nbformat": 4,
 "nbformat_minor": 5
}
