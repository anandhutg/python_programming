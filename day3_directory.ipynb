{
 "cells": [
  {
   "cell_type": "code",
   "execution_count": 2,
   "id": "24994230",
   "metadata": {},
   "outputs": [
    {
     "name": "stdout",
     "output_type": "stream",
     "text": [
      "C:\\Users\\anand\\Python Programming\n",
      "b'C:\\\\Users\\\\anand\\\\Python Programming'\n"
     ]
    }
   ],
   "source": [
    "import os\n",
    "print(os.getcwd())\n",
    "print(os.getcwdb())"
   ]
  },
  {
   "cell_type": "code",
   "execution_count": 8,
   "id": "7fd37eca",
   "metadata": {},
   "outputs": [],
   "source": [
    "os.chdir('C:\\\\Users\\\\anand\\\\Music')"
   ]
  },
  {
   "cell_type": "code",
   "execution_count": 9,
   "id": "dc1cafc8",
   "metadata": {},
   "outputs": [
    {
     "name": "stdout",
     "output_type": "stream",
     "text": [
      "C:\\Users\\anand\\Music\n"
     ]
    }
   ],
   "source": [
    "print(os.getcwd())"
   ]
  },
  {
   "cell_type": "code",
   "execution_count": 10,
   "id": "75eb496a",
   "metadata": {},
   "outputs": [],
   "source": [
    "os.chdir('C:\\\\Users\\\\anand\\\\Python Programming')"
   ]
  },
  {
   "cell_type": "code",
   "execution_count": 11,
   "id": "1f68f04e",
   "metadata": {},
   "outputs": [
    {
     "name": "stdout",
     "output_type": "stream",
     "text": [
      "['.ipynb_checkpoints', 'day1.ipynb', 'day2.ipynb', 'day3_directory.ipynb', 'day3_modules.ipynb', 'day3_sets.ipynb', 'day3_tuple.ipynb', 'example.txt']\n"
     ]
    }
   ],
   "source": [
    "print(os.listdir())"
   ]
  },
  {
   "cell_type": "code",
   "execution_count": 12,
   "id": "1d5f2c13",
   "metadata": {},
   "outputs": [],
   "source": [
    "os.mkdir('Test.ipynb')"
   ]
  },
  {
   "cell_type": "code",
   "execution_count": 13,
   "id": "5456ed7b",
   "metadata": {},
   "outputs": [],
   "source": [
    "os.rename('Test.ipynb','new_one')"
   ]
  },
  {
   "cell_type": "code",
   "execution_count": 14,
   "id": "e519192b",
   "metadata": {},
   "outputs": [],
   "source": [
    "os.rmdir('new_one')"
   ]
  },
  {
   "cell_type": "code",
   "execution_count": 15,
   "id": "c0144867",
   "metadata": {},
   "outputs": [],
   "source": [
    "os.remove('example.txt')"
   ]
  },
  {
   "cell_type": "code",
   "execution_count": null,
   "id": "9af921c2",
   "metadata": {},
   "outputs": [],
   "source": []
  }
 ],
 "metadata": {
  "kernelspec": {
   "display_name": "Python 3 (ipykernel)",
   "language": "python",
   "name": "python3"
  },
  "language_info": {
   "codemirror_mode": {
    "name": "ipython",
    "version": 3
   },
   "file_extension": ".py",
   "mimetype": "text/x-python",
   "name": "python",
   "nbconvert_exporter": "python",
   "pygments_lexer": "ipython3",
   "version": "3.11.5"
  }
 },
 "nbformat": 4,
 "nbformat_minor": 5
}
