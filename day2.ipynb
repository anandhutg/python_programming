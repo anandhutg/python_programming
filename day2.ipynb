{
 "cells": [
  {
   "cell_type": "code",
   "execution_count": 1,
   "id": "b3f2b33e",
   "metadata": {},
   "outputs": [
    {
     "name": "stdout",
     "output_type": "stream",
     "text": [
      "True\n",
      "False\n"
     ]
    }
   ],
   "source": [
    "print(5==5)\n",
    "print(5>5)"
   ]
  },
  {
   "cell_type": "code",
   "execution_count": 4,
   "id": "bf66a19f",
   "metadata": {},
   "outputs": [
    {
     "name": "stdout",
     "output_type": "stream",
     "text": [
      "None\n"
     ]
    }
   ],
   "source": [
    "def a_void_function():\n",
    "    a=1\n",
    "    b=2\n",
    "    c=a+b\n",
    "    #return c\n",
    "x=a_void_function()\n",
    "print(x)"
   ]
  },
  {
   "cell_type": "code",
   "execution_count": 5,
   "id": "f18537b0",
   "metadata": {},
   "outputs": [
    {
     "name": "stdout",
     "output_type": "stream",
     "text": [
      "-1.0\n"
     ]
    }
   ],
   "source": [
    "import math as myMath\n",
    "print(myMath.cos(myMath.pi))"
   ]
  },
  {
   "cell_type": "code",
   "execution_count": 6,
   "id": "9ca76c97",
   "metadata": {},
   "outputs": [
    {
     "name": "stdout",
     "output_type": "stream",
     "text": [
      "1\n",
      "2\n",
      "3\n",
      "4\n"
     ]
    }
   ],
   "source": [
    "for i in range (1,5):\n",
    "    print(i)"
   ]
  },
  {
   "cell_type": "code",
   "execution_count": 8,
   "id": "45780985",
   "metadata": {},
   "outputs": [
    {
     "name": "stdout",
     "output_type": "stream",
     "text": [
      "Hello World\n",
      "I am anandhu\n"
     ]
    }
   ],
   "source": [
    "class ExampleClass:\n",
    "    def fun1(p):\n",
    "        print(\"Hello World\")\n",
    "    def fun2(p):\n",
    "        print(\"I am anandhu\")\n",
    "ob1=ExampleClass()\n",
    "ob1.fun1()\n",
    "ob1.fun2()"
   ]
  },
  {
   "cell_type": "code",
   "execution_count": 9,
   "id": "3d28b24f",
   "metadata": {},
   "outputs": [
    {
     "name": "stdout",
     "output_type": "stream",
     "text": [
      "Division cannot be performed\n",
      "Executed Successfully\n"
     ]
    }
   ],
   "source": [
    "try:\n",
    "    x=9\n",
    "    raise ZeroDivisionError\n",
    "except ZeroDivisionError:\n",
    "    print(\"Division cannot be performed\")\n",
    "finally:\n",
    "    print(\"Executed Successfully\")"
   ]
  },
  {
   "cell_type": "code",
   "execution_count": 14,
   "id": "3a492941",
   "metadata": {},
   "outputs": [
    {
     "name": "stdout",
     "output_type": "stream",
     "text": [
      "0\n",
      "2\n",
      "4\n",
      "6\n",
      "8\n"
     ]
    }
   ],
   "source": [
    "for i in range (0,10,2):\n",
    "    print(i)"
   ]
  },
  {
   "cell_type": "code",
   "execution_count": 15,
   "id": "ab17f59a",
   "metadata": {},
   "outputs": [
    {
     "name": "stdout",
     "output_type": "stream",
     "text": [
      "2.0\n"
     ]
    }
   ],
   "source": [
    "import math\n",
    "from math import sqrt\n",
    "print(sqrt(4))"
   ]
  },
  {
   "cell_type": "code",
   "execution_count": 21,
   "id": "894c8af1",
   "metadata": {},
   "outputs": [
    {
     "name": "stdout",
     "output_type": "stream",
     "text": [
      "10\n",
      "0\n",
      "0\n"
     ]
    }
   ],
   "source": [
    "a=10\n",
    "def read1():\n",
    "    print(a)\n",
    "def write1():\n",
    "    global a\n",
    "    a=0\n",
    "    print(a)\n",
    "def write2():\n",
    "    print(a)\n",
    "read1()\n",
    "write1()\n",
    "write2()"
   ]
  },
  {
   "cell_type": "code",
   "execution_count": 22,
   "id": "39f400c2",
   "metadata": {},
   "outputs": [
    {
     "name": "stdout",
     "output_type": "stream",
     "text": [
      "True\n"
     ]
    }
   ],
   "source": [
    "a=[1,2,3,4]\n",
    "print(3 in a)"
   ]
  },
  {
   "cell_type": "code",
   "execution_count": 23,
   "id": "20946b02",
   "metadata": {},
   "outputs": [
    {
     "name": "stdout",
     "output_type": "stream",
     "text": [
      "1\n",
      "4\n",
      "9\n",
      "16\n",
      "25\n",
      "36\n",
      "49\n",
      "64\n",
      "81\n"
     ]
    }
   ],
   "source": [
    "a= lambda x:x*x\n",
    "for i in range(1,10):\n",
    "    print(a(i))"
   ]
  },
  {
   "cell_type": "code",
   "execution_count": 24,
   "id": "0d2d10a9",
   "metadata": {},
   "outputs": [
    {
     "name": "stdout",
     "output_type": "stream",
     "text": [
      "Inner function : 10\n",
      "Outer function 10\n"
     ]
    }
   ],
   "source": [
    "def outer_function():\n",
    "    a=5\n",
    "    def inner_function():\n",
    "        nonlocal a\n",
    "        a=10\n",
    "        print(\"Inner function :\",a)\n",
    "    inner_function()\n",
    "    print(\"Outer function\",a)\n",
    "outer_function()"
   ]
  },
  {
   "cell_type": "code",
   "execution_count": 26,
   "id": "96b73ec4",
   "metadata": {},
   "outputs": [],
   "source": [
    "with open('example.txt','w') as my_file:\n",
    "    my_file.write('Hello world!')"
   ]
  },
  {
   "cell_type": "code",
   "execution_count": 27,
   "id": "31d5904d",
   "metadata": {},
   "outputs": [],
   "source": [
    "with open('example.txt','w') as my_file:\n",
    "    my_file.write('I am anandhu')"
   ]
  },
  {
   "cell_type": "code",
   "execution_count": 29,
   "id": "032a24a8",
   "metadata": {},
   "outputs": [
    {
     "name": "stdout",
     "output_type": "stream",
     "text": [
      "I am anandhu\n"
     ]
    }
   ],
   "source": [
    "with open('example.txt','r') as my_file:\n",
    "    print(my_file.read())"
   ]
  },
  {
   "cell_type": "code",
   "execution_count": 30,
   "id": "658c15b2",
   "metadata": {},
   "outputs": [
    {
     "name": "stdout",
     "output_type": "stream",
     "text": [
      "0\n",
      "1\n",
      "4\n",
      "9\n",
      "16\n",
      "25\n",
      "36\n",
      "49\n",
      "64\n",
      "81\n"
     ]
    }
   ],
   "source": [
    "def rep():\n",
    "    for i in range(10):\n",
    "        yield i*i\n",
    "g = rep()\n",
    "for i in g:\n",
    "    print(i)"
   ]
  },
  {
   "cell_type": "code",
   "execution_count": null,
   "id": "fab39808",
   "metadata": {},
   "outputs": [],
   "source": []
  }
 ],
 "metadata": {
  "kernelspec": {
   "display_name": "Python 3 (ipykernel)",
   "language": "python",
   "name": "python3"
  },
  "language_info": {
   "codemirror_mode": {
    "name": "ipython",
    "version": 3
   },
   "file_extension": ".py",
   "mimetype": "text/x-python",
   "name": "python",
   "nbconvert_exporter": "python",
   "pygments_lexer": "ipython3",
   "version": "3.11.5"
  }
 },
 "nbformat": 4,
 "nbformat_minor": 5
}
