{
 "cells": [
  {
   "cell_type": "code",
   "execution_count": 10,
   "id": "ce9ebbd7",
   "metadata": {},
   "outputs": [
    {
     "name": "stdout",
     "output_type": "stream",
     "text": [
      "7\n",
      "6\n",
      "5\n",
      "5\n"
     ]
    }
   ],
   "source": [
    "from typing import List\n",
    "class Solution:\n",
    "    def removeElement(self, nums: List[int], val: int) -> int:\n",
    "        k=0\n",
    "        i=0\n",
    "        while i<len(nums):\n",
    "            if nums[i]!=val:\n",
    "                k=k+1\n",
    "            else:\n",
    "                nums.remove(val)\n",
    "                i=i-1\n",
    "                print(len(nums))\n",
    "            i=i+1\n",
    "        return k\n",
    "nums = [0, 1, 2, 2, 3, 0, 4, 2]\n",
    "val = 2\n",
    "solution = Solution()\n",
    "k = solution.removeElement(nums, val)\n",
    "print(k)"
   ]
  },
  {
   "cell_type": "code",
   "execution_count": 3,
   "id": "94c67eac",
   "metadata": {},
   "outputs": [
    {
     "ename": "NameError",
     "evalue": "name 'solution' is not defined",
     "output_type": "error",
     "traceback": [
      "\u001b[1;31m---------------------------------------------------------------------------\u001b[0m",
      "\u001b[1;31mNameError\u001b[0m                                 Traceback (most recent call last)",
      "Cell \u001b[1;32mIn[3], line 2\u001b[0m\n\u001b[0;32m      1\u001b[0m x\u001b[38;5;241m=\u001b[39m\u001b[38;5;241m-\u001b[39m\u001b[38;5;241m123\u001b[39m\n\u001b[1;32m----> 2\u001b[0m s\u001b[38;5;241m=\u001b[39msolution()\n\u001b[0;32m      3\u001b[0m x\u001b[38;5;241m=\u001b[39ms\u001b[38;5;241m.\u001b[39mreverse(x)\n\u001b[0;32m      4\u001b[0m \u001b[38;5;28mprint\u001b[39m(x)\n",
      "\u001b[1;31mNameError\u001b[0m: name 'solution' is not defined"
     ]
    }
   ],
   "source": [
    "x=-123\n",
    "s=solution()\n",
    "x=s.reverse(x)\n",
    "print(x)\n",
    "class solution:\n",
    "    def reverse(self, x: int) -> int:\n",
    "        x=str(x)\n",
    "        if int(x)>=0:\n",
    "            x=x[::-1]\n",
    "            x=int(x)\n",
    "            return x\n",
    "        else:\n",
    "            x=x[:len(x)-1:-1]\n",
    "            x=int(x)\n",
    "            x=-(x)\n",
    "            return x"
   ]
  },
  {
   "cell_type": "code",
   "execution_count": 14,
   "id": "925b10f0",
   "metadata": {},
   "outputs": [
    {
     "name": "stdout",
     "output_type": "stream",
     "text": [
      "olleh\n"
     ]
    }
   ],
   "source": [
    "x=\"-hello\"\n",
    "print(x[:0:-1])"
   ]
  },
  {
   "cell_type": "code",
   "execution_count": null,
   "id": "362d6dc4",
   "metadata": {},
   "outputs": [],
   "source": []
  },
  {
   "cell_type": "code",
   "execution_count": null,
   "id": "1e7e631f",
   "metadata": {},
   "outputs": [],
   "source": []
  },
  {
   "cell_type": "code",
   "execution_count": null,
   "id": "b462573c",
   "metadata": {},
   "outputs": [],
   "source": []
  }
 ],
 "metadata": {
  "kernelspec": {
   "display_name": "Python 3 (ipykernel)",
   "language": "python",
   "name": "python3"
  },
  "language_info": {
   "codemirror_mode": {
    "name": "ipython",
    "version": 3
   },
   "file_extension": ".py",
   "mimetype": "text/x-python",
   "name": "python",
   "nbconvert_exporter": "python",
   "pygments_lexer": "ipython3",
   "version": "3.11.5"
  }
 },
 "nbformat": 4,
 "nbformat_minor": 5
}
