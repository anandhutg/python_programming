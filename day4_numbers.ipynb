{
 "cells": [
  {
   "cell_type": "code",
   "execution_count": 2,
   "id": "fbd8fa6d",
   "metadata": {},
   "outputs": [
    {
     "name": "stdout",
     "output_type": "stream",
     "text": [
      "True\n",
      "False\n"
     ]
    }
   ],
   "source": [
    "val=100\n",
    "print(isinstance(val,int))\n",
    "print(isinstance(val,complex))"
   ]
  },
  {
   "cell_type": "code",
   "execution_count": 5,
   "id": "ecf486ef",
   "metadata": {},
   "outputs": [
    {
     "name": "stdout",
     "output_type": "stream",
     "text": [
      "False\n",
      "True\n"
     ]
    }
   ],
   "source": [
    "val=100+6j\n",
    "print(isinstance(val,int))\n",
    "print(isinstance(val,complex))"
   ]
  },
  {
   "cell_type": "code",
   "execution_count": 10,
   "id": "09d29db4",
   "metadata": {},
   "outputs": [
    {
     "name": "stdout",
     "output_type": "stream",
     "text": [
      "5\n",
      "171\n",
      "9\n"
     ]
    }
   ],
   "source": [
    "print(0b101)\n",
    "print(0xab)\n",
    "print(0o11)"
   ]
  },
  {
   "cell_type": "code",
   "execution_count": 15,
   "id": "cbcfd976",
   "metadata": {},
   "outputs": [
    {
     "name": "stdout",
     "output_type": "stream",
     "text": [
      "0.30000000000000004\n",
      "0.020000000000000004\n",
      "0.3\n",
      "0.02\n"
     ]
    }
   ],
   "source": [
    "d1=0.1+0.2\n",
    "print(d1)\n",
    "d2=0.1*0.2\n",
    "print(d2)\n",
    "from decimal import Decimal as d\n",
    "print(d('0.1')+d('0.2'))\n",
    "print(d('0.1')*d('0.2'))"
   ]
  },
  {
   "cell_type": "code",
   "execution_count": 4,
   "id": "da37e8e0",
   "metadata": {},
   "outputs": [
    {
     "name": "stdout",
     "output_type": "stream",
     "text": [
      "3/2\n",
      "5\n",
      "1/5\n"
     ]
    }
   ],
   "source": [
    "from fractions import Fraction as f\n",
    "print(f(1.5))\n",
    "print(f(5))\n",
    "print(f(1,5))"
   ]
  },
  {
   "cell_type": "code",
   "execution_count": 8,
   "id": "431ca2e4",
   "metadata": {},
   "outputs": [
    {
     "name": "stdout",
     "output_type": "stream",
     "text": [
      "0.5253219888177297\n",
      "120\n",
      "1.7467135528742547e+19\n",
      "25\n"
     ]
    }
   ],
   "source": [
    "from math import *\n",
    "print(cos(45))\n",
    "print(factorial(5))\n",
    "print(cosh(45))\n",
    "print(abs(-25))"
   ]
  },
  {
   "cell_type": "code",
   "execution_count": 9,
   "id": "5c7e61d4",
   "metadata": {},
   "outputs": [
    {
     "name": "stdout",
     "output_type": "stream",
     "text": [
      "11\n",
      "7\n"
     ]
    }
   ],
   "source": [
    "import random\n",
    "print(random.randrange(5,15))\n",
    "print(random.randrange(5,15))"
   ]
  },
  {
   "cell_type": "code",
   "execution_count": 10,
   "id": "729fb2c2",
   "metadata": {},
   "outputs": [
    {
     "name": "stdout",
     "output_type": "stream",
     "text": [
      "2\n"
     ]
    }
   ],
   "source": [
    "num=[1,2,3,4,5,6]\n",
    "print(random.choice(num))"
   ]
  },
  {
   "cell_type": "code",
   "execution_count": 11,
   "id": "eb5b7bc1",
   "metadata": {},
   "outputs": [
    {
     "name": "stdout",
     "output_type": "stream",
     "text": [
      "[1, 2, 5, 6, 4, 3]\n"
     ]
    }
   ],
   "source": [
    "random.shuffle(num)\n",
    "print(num)"
   ]
  },
  {
   "cell_type": "code",
   "execution_count": 12,
   "id": "175c238d",
   "metadata": {},
   "outputs": [
    {
     "name": "stdout",
     "output_type": "stream",
     "text": [
      "0.5897336907639777\n"
     ]
    }
   ],
   "source": [
    "print(random.random())"
   ]
  },
  {
   "cell_type": "code",
   "execution_count": null,
   "id": "c2560127",
   "metadata": {},
   "outputs": [],
   "source": []
  }
 ],
 "metadata": {
  "kernelspec": {
   "display_name": "Python 3 (ipykernel)",
   "language": "python",
   "name": "python3"
  },
  "language_info": {
   "codemirror_mode": {
    "name": "ipython",
    "version": 3
   },
   "file_extension": ".py",
   "mimetype": "text/x-python",
   "name": "python",
   "nbconvert_exporter": "python",
   "pygments_lexer": "ipython3",
   "version": "3.11.5"
  }
 },
 "nbformat": 4,
 "nbformat_minor": 5
}
