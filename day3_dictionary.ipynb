{
 "cells": [
  {
   "cell_type": "code",
   "execution_count": 1,
   "id": "80dd4e01",
   "metadata": {},
   "outputs": [
    {
     "name": "stdout",
     "output_type": "stream",
     "text": [
      "{1: 'welcome', 2: 'home'}\n"
     ]
    }
   ],
   "source": [
    "d={1:\"welcome\",2:\"home\"}\n",
    "print(d)"
   ]
  },
  {
   "cell_type": "code",
   "execution_count": 4,
   "id": "2fe597b2",
   "metadata": {},
   "outputs": [
    {
     "name": "stdout",
     "output_type": "stream",
     "text": [
      "welcome\n",
      "None\n"
     ]
    }
   ],
   "source": [
    "print(d[1])\n",
    "print(d.get(3)) #no error for invalid index instead returns none"
   ]
  },
  {
   "cell_type": "code",
   "execution_count": 5,
   "id": "6e525722",
   "metadata": {},
   "outputs": [
    {
     "name": "stdout",
     "output_type": "stream",
     "text": [
      "{1: 'come', 2: 'home', 3: 'fast'}\n"
     ]
    }
   ],
   "source": [
    "d[1] =\"come\"\n",
    "d[3]=\"fast\"\n",
    "print(d)"
   ]
  },
  {
   "cell_type": "code",
   "execution_count": 7,
   "id": "bd30054d",
   "metadata": {},
   "outputs": [
    {
     "data": {
      "text/plain": [
       "'home'"
      ]
     },
     "execution_count": 7,
     "metadata": {},
     "output_type": "execute_result"
    }
   ],
   "source": [
    "d.pop(2)"
   ]
  },
  {
   "cell_type": "code",
   "execution_count": 8,
   "id": "696d2f84",
   "metadata": {},
   "outputs": [
    {
     "data": {
      "text/plain": [
       "(3, 'fast')"
      ]
     },
     "execution_count": 8,
     "metadata": {},
     "output_type": "execute_result"
    }
   ],
   "source": [
    "d.popitem()"
   ]
  },
  {
   "cell_type": "code",
   "execution_count": 9,
   "id": "15ddc54c",
   "metadata": {},
   "outputs": [],
   "source": [
    "del d[1]"
   ]
  },
  {
   "cell_type": "code",
   "execution_count": 11,
   "id": "f8ce32d7",
   "metadata": {},
   "outputs": [],
   "source": [
    "d={1:\"welcome\",2:\"home\"}"
   ]
  },
  {
   "cell_type": "code",
   "execution_count": 12,
   "id": "959df979",
   "metadata": {},
   "outputs": [],
   "source": [
    "d.clear()"
   ]
  },
  {
   "cell_type": "code",
   "execution_count": 14,
   "id": "4abdf69a",
   "metadata": {},
   "outputs": [],
   "source": [
    "del d"
   ]
  },
  {
   "cell_type": "code",
   "execution_count": 16,
   "id": "842f9751",
   "metadata": {},
   "outputs": [],
   "source": [
    "squares ={x : x*x for x in range(10)}"
   ]
  },
  {
   "cell_type": "code",
   "execution_count": 17,
   "id": "10b55b00",
   "metadata": {},
   "outputs": [
    {
     "data": {
      "text/plain": [
       "{0: 0, 1: 1, 2: 4, 3: 9, 4: 16, 5: 25, 6: 36, 7: 49, 8: 64, 9: 81}"
      ]
     },
     "execution_count": 17,
     "metadata": {},
     "output_type": "execute_result"
    }
   ],
   "source": [
    "squares"
   ]
  },
  {
   "cell_type": "code",
   "execution_count": 18,
   "id": "5e9e1ca3",
   "metadata": {},
   "outputs": [
    {
     "data": {
      "text/plain": [
       "True"
      ]
     },
     "execution_count": 18,
     "metadata": {},
     "output_type": "execute_result"
    }
   ],
   "source": [
    "3 in squares"
   ]
  },
  {
   "cell_type": "code",
   "execution_count": 19,
   "id": "3f1f547d",
   "metadata": {},
   "outputs": [
    {
     "data": {
      "text/plain": [
       "False"
      ]
     },
     "execution_count": 19,
     "metadata": {},
     "output_type": "execute_result"
    }
   ],
   "source": [
    "25 in squares"
   ]
  },
  {
   "cell_type": "code",
   "execution_count": 22,
   "id": "6c35f7e3",
   "metadata": {},
   "outputs": [
    {
     "name": "stdout",
     "output_type": "stream",
     "text": [
      "0\n",
      "1\n",
      "4\n",
      "9\n",
      "16\n",
      "25\n",
      "36\n",
      "49\n",
      "64\n",
      "81\n"
     ]
    }
   ],
   "source": [
    "for i in squares:\n",
    "    print(squares[i])"
   ]
  },
  {
   "cell_type": "raw",
   "id": "00c1adef",
   "metadata": {},
   "source": [
    "psorted(squares)"
   ]
  },
  {
   "cell_type": "code",
   "execution_count": null,
   "id": "de7981c2",
   "metadata": {},
   "outputs": [],
   "source": []
  }
 ],
 "metadata": {
  "kernelspec": {
   "display_name": "Python 3 (ipykernel)",
   "language": "python",
   "name": "python3"
  },
  "language_info": {
   "codemirror_mode": {
    "name": "ipython",
    "version": 3
   },
   "file_extension": ".py",
   "mimetype": "text/x-python",
   "name": "python",
   "nbconvert_exporter": "python",
   "pygments_lexer": "ipython3",
   "version": "3.11.5"
  }
 },
 "nbformat": 4,
 "nbformat_minor": 5
}
